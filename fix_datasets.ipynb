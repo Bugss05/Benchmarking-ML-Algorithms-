{
 "cells": [
  {
   "cell_type": "code",
   "execution_count": 1,
   "metadata": {},
   "outputs": [],
   "source": [
    "import os\n",
    "import pandas as pd\n",
    "import numpy as np\n",
    "from sklearn.impute import KNNImputer\n",
    "from sklearn.preprocessing import LabelEncoder"
   ]
  },
  {
   "cell_type": "code",
   "execution_count": 2,
   "metadata": {},
   "outputs": [],
   "source": [
    "# List all CSV files in the directory\n",
    "csv_files = [f for f in os.listdir('class_imbalance') if f.endswith('.csv')]\n",
    "\n",
    "# Dictionary to store missing values count for each file\n",
    "missing_values_counts = {}\n",
    "\n",
    "# Iterate through each CSV file\n",
    "for csv_file in csv_files:\n",
    "    file_path = os.path.join('class_imbalance', csv_file)\n",
    "    df = pd.read_csv(file_path)\n",
    "    missing_values_counts[csv_file] = df.isnull().sum().sum()\n",
    "\n",
    "# Display the missing values count for each file\n",
    "for file, count in missing_values_counts.items():\n",
    "    print(f\"{file}: {count} missing values\")\n"
   ]
  },
  {
   "cell_type": "code",
   "execution_count": 3,
   "metadata": {},
   "outputs": [
    {
     "data": {
      "text/plain": [
       "{}"
      ]
     },
     "execution_count": 3,
     "metadata": {},
     "output_type": "execute_result"
    }
   ],
   "source": [
    "files_with_missing_values = {file: count for file, count in missing_values_counts.items() if count > 0}\n",
    "files_with_missing_values"
   ]
  },
  {
   "cell_type": "code",
   "execution_count": 4,
   "metadata": {},
   "outputs": [
    {
     "data": {
      "text/plain": [
       "{}"
      ]
     },
     "execution_count": 4,
     "metadata": {},
     "output_type": "execute_result"
    }
   ],
   "source": [
    "categorical_columns = {}\n",
    "\n",
    "# Iterate through each CSV file\n",
    "for csv_file in csv_files:\n",
    "    file_path = os.path.join('class_imbalance', csv_file)\n",
    "    df = pd.read_csv(file_path)\n",
    "    \n",
    "    # Drop columns that are entirely NaN\n",
    "    df = df.dropna(axis=1, how='all')\n",
    "    \n",
    "    # Identify categorical columns\n",
    "    cat_cols = []\n",
    "    for col in df.columns:\n",
    "        if df[col].dtype == 'object' or df[col].dtype == 'int64':\n",
    "            cat_cols.append(col)\n",
    "        elif df[col].dtype == 'float64' and ((df[col].dropna() == df[col].dropna().astype(int)).all()):\n",
    "            cat_cols.append(col)\n",
    "    \n",
    "    # Save the categorical columns in the dictionary\n",
    "    categorical_columns[csv_file] = cat_cols\n",
    "\n",
    "categorical_columns"
   ]
  },
  {
   "cell_type": "code",
   "execution_count": 5,
   "metadata": {},
   "outputs": [
    {
     "data": {
      "text/plain": [
       "{}"
      ]
     },
     "execution_count": 5,
     "metadata": {},
     "output_type": "execute_result"
    }
   ],
   "source": [
    "# Function to encode string columns to integers\n",
    "def encode_strings(df):\n",
    "    label_encoders = {}\n",
    "    for col in df.columns:\n",
    "        if df[col].dtype == 'object':\n",
    "            le = LabelEncoder()\n",
    "            df[col] = le.fit_transform(df[col].astype(str))\n",
    "            label_encoders[col] = le\n",
    "    return df, label_encoders\n",
    "\n",
    "# Apply KNN imputation to each file\n",
    "imputed_data = {}\n",
    "for csv_file in csv_files:\n",
    "    file_path = os.path.join('class_imbalance', csv_file)\n",
    "    df = pd.read_csv(file_path)\n",
    "    \n",
    "    # Drop columns that are entirely NaN\n",
    "    df = df.dropna(axis=1, how='all')\n",
    "    \n",
    "    # Encode string columns to integers\n",
    "    df, label_encoders = encode_strings(df)\n",
    "    \n",
    "    # Apply KNN imputation\n",
    "    imputer = KNNImputer(n_neighbors=5)\n",
    "    df_imputed = pd.DataFrame(imputer.fit_transform(df), columns=df.columns)\n",
    "    \n",
    "    # Save the imputed dataframe\n",
    "    imputed_data[csv_file] = df_imputed\n",
    "\n",
    "# Display the imputed data for verification\n",
    "imputed_data"
   ]
  },
  {
   "cell_type": "code",
   "execution_count": 6,
   "metadata": {},
   "outputs": [
    {
     "data": {
      "text/plain": [
       "{}"
      ]
     },
     "execution_count": 6,
     "metadata": {},
     "output_type": "execute_result"
    }
   ],
   "source": [
    "for file in categorical_columns.keys():\n",
    "    cat_cols = categorical_columns[file]\n",
    "    \n",
    "    for col in cat_cols:\n",
    "        imputed_data[file][col] = imputed_data[file][col].round().astype(int)\n",
    "        \n",
    "imputed_data"
   ]
  },
  {
   "cell_type": "code",
   "execution_count": 7,
   "metadata": {},
   "outputs": [
    {
     "name": "stdout",
     "output_type": "stream",
     "text": [
      "All files have been saved to the 'fixed_datasets' folder.\n"
     ]
    }
   ],
   "source": [
    "# Create the folder if it doesn't exist\n",
    "output_folder = 'fixed_datasets'\n",
    "os.makedirs(output_folder, exist_ok=True)\n",
    "\n",
    "# Save each DataFrame to a CSV file\n",
    "for file_name, data in imputed_data.items():\n",
    "    output_path = os.path.join(output_folder, file_name)\n",
    "    data.to_csv(output_path, index=False)\n",
    "\n",
    "print(f\"All files have been saved to the '{output_folder}' folder.\")"
   ]
  }
 ],
 "metadata": {
  "kernelspec": {
   "display_name": "Borgwarner",
   "language": "python",
   "name": "python3"
  },
  "language_info": {
   "codemirror_mode": {
    "name": "ipython",
    "version": 3
   },
   "file_extension": ".py",
   "mimetype": "text/x-python",
   "name": "python",
   "nbconvert_exporter": "python",
   "pygments_lexer": "ipython3",
   "version": "3.8.20"
  }
 },
 "nbformat": 4,
 "nbformat_minor": 2
}
